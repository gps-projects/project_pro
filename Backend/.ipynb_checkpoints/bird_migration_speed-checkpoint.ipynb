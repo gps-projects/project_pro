{
 "cells": [
  {
   "cell_type": "code",
   "execution_count": 1,
   "id": "6393ffd7",
   "metadata": {},
   "outputs": [
    {
     "ename": "NameError",
     "evalue": "name 'birddata' is not defined",
     "output_type": "error",
     "traceback": [
      "\u001b[1;31m---------------------------------------------------------------------------\u001b[0m",
      "\u001b[1;31mNameError\u001b[0m                                 Traceback (most recent call last)",
      "\u001b[1;32m~\\AppData\\Local\\Temp/ipykernel_9088/3172953889.py\u001b[0m in \u001b[0;36m<module>\u001b[1;34m\u001b[0m\n\u001b[0;32m      3\u001b[0m \u001b[1;32mimport\u001b[0m \u001b[0mnumpy\u001b[0m \u001b[1;32mas\u001b[0m \u001b[0mnp\u001b[0m\u001b[1;33m\u001b[0m\u001b[1;33m\u001b[0m\u001b[0m\n\u001b[0;32m      4\u001b[0m \u001b[1;33m\u001b[0m\u001b[0m\n\u001b[1;32m----> 5\u001b[1;33m \u001b[0mix\u001b[0m \u001b[1;33m=\u001b[0m \u001b[0mbirddata\u001b[0m\u001b[1;33m.\u001b[0m\u001b[0mbird_name\u001b[0m \u001b[1;33m==\u001b[0m \u001b[1;34m\"Eric\"\u001b[0m \u001b[1;31m#storing the indices of the bird Eric\u001b[0m\u001b[1;33m\u001b[0m\u001b[1;33m\u001b[0m\u001b[0m\n\u001b[0m\u001b[0;32m      6\u001b[0m \u001b[0mspeed\u001b[0m \u001b[1;33m=\u001b[0m \u001b[0mbirddata\u001b[0m\u001b[1;33m.\u001b[0m\u001b[0mspeed_2d\u001b[0m\u001b[1;33m[\u001b[0m\u001b[0mix\u001b[0m\u001b[1;33m]\u001b[0m\u001b[1;33m\u001b[0m\u001b[1;33m\u001b[0m\u001b[0m\n\u001b[0;32m      7\u001b[0m \u001b[1;31m# >>>plt.hist(speed) #[F.A.I.L.S] ,since we have non numeric numbers in the speed array\u001b[0m\u001b[1;33m\u001b[0m\u001b[1;33m\u001b[0m\u001b[0m\n",
      "\u001b[1;31mNameError\u001b[0m: name 'birddata' is not defined"
     ]
    }
   ],
   "source": [
    "import pandas as pd\n",
    "import matplotlib.pyplot as plt\n",
    "import numpy as np\n",
    "\n",
    "ix = birddata.bird_name == \"Eric\" #storing the indices of the bird Eric\n",
    "speed = birddata.speed_2d[ix]\n",
    "# >>>plt.hist(speed) #[F.A.I.L.S] ,since we have non numeric numbers in the speed array\n",
    "# >>>plt.hist(speed[:10])  #plot a histogram using the first 10 observations of speed [works]\n",
    "# >>>np.isnan(speed) #>>>np.isnan(speed).any()  #I am looking for any non number objects in the speed column using numpy's isnan function.\n",
    "# >>>np.sum(np.isnan(speed)) # I find out the count of non numeric entries, False=0 & True =1 from isnan()\n",
    "\n",
    "# >>>ind = np.isnan(speed)\n",
    "# >>>plt.hist(speed[~ind]) #we will include only those entries for which ind != True\n",
    "\n",
    "plt.figure(figsize = (8,4))\n",
    "# >>>speed = birddata.speed_2d[birddata.bird_name == \"Eric\"] #step 5 & 6 combined\n",
    "ind = np.isnan(speed)\n",
    "plt.hist(speed[~ind], bins=np.linspace(0,30,20), normed=True)\n",
    "plt.xlabel(\" 2D speed (m/s) \")\n",
    "plt.ylabel(\" Frequency \")\n",
    "plt.show()\n",
    "\n",
    "\n",
    "'''\n",
    "    We can also plot a similar histogram using the pandas module instead of pyplot.\n",
    "    The benefit of using pandas is that we do not have to deal with NaNs explicitly.\n",
    "    Instead, all of that happens under the hood.\n",
    "\n",
    "    NaNs - Not-a-Number\n",
    "\n",
    "    >>>birddata.speed_2d.plot(kind='hist', range=[0,30])\n",
    "    >>>plt.xlabel(\"2D speed\")\n",
    "    >>>plt.savefig(\"hist_birdmig_speed.pdf\")\n",
    "'''\n"
   ]
  },
  {
   "cell_type": "code",
   "execution_count": null,
   "id": "970c6522",
   "metadata": {},
   "outputs": [],
   "source": []
  }
 ],
 "metadata": {
  "kernelspec": {
   "display_name": "Python 3 (ipykernel)",
   "language": "python",
   "name": "python3"
  },
  "language_info": {
   "codemirror_mode": {
    "name": "ipython",
    "version": 3
   },
   "file_extension": ".py",
   "mimetype": "text/x-python",
   "name": "python",
   "nbconvert_exporter": "python",
   "pygments_lexer": "ipython3",
   "version": "3.9.7"
  }
 },
 "nbformat": 4,
 "nbformat_minor": 5
}
